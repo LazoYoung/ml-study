{
 "cells": [
  {
   "cell_type": "markdown",
   "source": [
    "# 실행환경 설정"
   ],
   "metadata": {
    "collapsed": false
   },
   "id": "2382ec615a3c1e37"
  },
  {
   "cell_type": "code",
   "execution_count": null,
   "outputs": [],
   "source": [
    "import os\n",
    "import sys\n",
    "if 'google.colab' in sys.modules:\n",
    "    !pip install -q --upgrade scikit-learn\n",
    "    if not os.path.isdir('mglearn'):\n",
    "        !wget -q -O mglearn.tar.gz https://bit.ly/mglearn-tar-gz\n",
    "        !tar -xzf mglearn.tar.gz"
   ],
   "metadata": {
    "collapsed": false
   },
   "id": "3055e1fbcea647b6"
  },
  {
   "cell_type": "markdown",
   "source": [
    "# 1장 기계학습의 기본\n",
    "## 지도 학습과 비지도 학습\n",
    "이미 알려진 사례를 바탕으로 일반화된 모델을 만들어 의사 결정 프로세스를 자동화하는 방식으로 지도 학습이 사용된다. 입력과 기대값을 포함하는 데이터셋을 제공하면 알고리즘은 주어진 입력을 바탕으로 적절한 출력을 만드는 방법을 학습한다.\n",
    "반면에 비지도 학습은 입력만 주어지고 출력은 제공되지 않는다.\n",
    "\n",
    "## Jupyter Notebook\n",
    "IPython 커널을 포함하는 Jupyter Notebook을 사용하면 웹 환경에서 파이썬으로 대화형 프로그래밍이 가능하며, Markdown 텍스트나 그래프 등 시각화 자료를 첨부하는 데 용이하다.\n",
    "\n",
    "### IPython\n",
    "IPython 커널에서 제공하는 특수 문법을 알아보자. [참고문헌](https://ipython.readthedocs.io/en/stable/interactive/reference.html)\n",
    "\n",
    "1. Help - 특정 변수에 대한 정보를 출력한다\n",
    "```\n",
    "In[1]: object?\n",
    "Docstring: The most base type\n",
    "Type:      type\n",
    "```\n",
    "\n",
    "2. Shell Assignment - 커널 내부 shell 명령어를 실행한다\n",
    "```\n",
    "In[1]: !pwd\n",
    "/User/home/\n",
    "```\n",
    "\n",
    "3. Shell Assignment 명령어의 일부로 Python 변수 또는 표현식을 삽입할 수 있다.\n",
    "```\n",
    "In[1]: file = 'myfile.txt'\n",
    "In[2]: !mv $file {file.upper()}\n",
    "```\n",
    "\n",
    "4. Shell Assignment 결과를 새로운 Python 변수로 저장하는 것도 가능하다.\n",
    "```\n",
    "my_files = !ls ~/\n",
    "for i, file in enumerate(my_files):\n",
    "    raw = !echo $backup $file\n",
    "    !cp $file {file.split('.')[0] + '.bak'}\n",
    "```\n"
   ],
   "metadata": {
    "collapsed": false
   },
   "id": "4b888a23aa7f8ffa"
  },
  {
   "cell_type": "markdown",
   "source": [
    "## NumPy\n",
    "NumPy 패키지는 데이터 과학에 필요한 고수준 수학 함수를 제공하며, `Scikit-learn` 모듈에서도 사용되는 다차원 배열 클래스 `ndarray`를 제공한다. 배열의 원소는 동질(homogeneous) 타입으로만 구성되며, 메모리 상에서 1차원의 연속적인(contiguous) 형태로 저장된다."
   ],
   "metadata": {
    "collapsed": false
   },
   "id": "c3b95579fd96bc2c"
  },
  {
   "cell_type": "code",
   "execution_count": null,
   "outputs": [],
   "source": [
    "import numpy as np\n",
    "\n",
    "x = np.array([[1, 2, 3], [4, 5, 6]])\n",
    "print(\"x:\\n\", x)"
   ],
   "metadata": {
    "collapsed": false
   },
   "id": "83dde4bc3a42cb12"
  },
  {
   "cell_type": "markdown",
   "source": [
    "## SciPy\n",
    "SciPy 패키지도 데이터 과학에 필요한 수학 및 통계 기능을 제공하며, 0을 많이 포함하는 2차원 배열을 저장할 때 `scipy.sparse`를 사용한다."
   ],
   "metadata": {
    "collapsed": false
   },
   "id": "1749c17e7399ae12"
  },
  {
   "cell_type": "code",
   "execution_count": null,
   "outputs": [],
   "source": [
    "from scipy import sparse\n",
    "\n",
    "eye = np.eye(4)  # 단위 행렬\n",
    "print(\"Numpy array: \\n\", eye)\n",
    "\n",
    "sparse_matrix = sparse.csr_matrix(eye)\n",
    "print(\"\\nCSR matrix: \\n\", sparse_matrix)\n",
    "\n",
    "data = np.ones(4)           # 희소 행렬 원소 4개\n",
    "row_indices = np.arange(4)  # 원소 행 색인 [0 1 2 3]\n",
    "col_indices = np.arange(4)  # 원소 열 색인 [0 1 2 3]\n",
    "sparse_coo = sparse.coo_array((data, (row_indices, col_indices)), shape=(4,4))\n",
    "print(\"\\nCOO matrix: \\n\", sparse_coo)"
   ],
   "metadata": {
    "collapsed": false
   },
   "id": "54097db0a9db788a"
  },
  {
   "cell_type": "markdown",
   "source": [
    "## matplotlib\n",
    "`matplotlib`을 사용하면 선 그래프, 히스토그램, 산점도 등 여러 종류의 그래프를 화면에 그려낼 수 있다.\n",
    "\n",
    "### Axes\n",
    "그래프 플로팅에 필요한 객체를 명시적으로 생성하고 사용하려면 `Axes` 인터페이스를 사용하자.\n",
    "```python\n",
    "import matplotlib.pyplot as plt\n",
    "\n",
    "fig = plt.figure()   # Get a Figure object\n",
    "ax = fig.subplots()  # Create an Axes\n",
    "ax.plot([1, 2, 3, 4], [0, 0.5, 1, 0.2])  # Axes.plot(x,y)\n",
    "```\n",
    "\n",
    "### pyplot\n",
    "`pyplot` 모듈 함수를 사용하면 `Figure`와 `Axes` 객체를 만들 필요가 없어진다.\n",
    "스크립트 환경에서 간단한 그래프를 플로팅할 때 유용한 방식이다.\n",
    "```python\n",
    "import matplotlib.pyplot as plt\n",
    "\n",
    "plt.plot([1, 2, 3, 4], [0, 0.5, 1, 0.2])  # pyplot.plot(x,y)\n",
    "```"
   ],
   "metadata": {
    "collapsed": false
   },
   "id": "2312ee7ba19c5e77"
  },
  {
   "cell_type": "code",
   "execution_count": null,
   "outputs": [],
   "source": [
    "import matplotlib.pyplot as plt\n",
    "\n",
    "x = np.linspace(-10, 10, 100)  # [-10,10] 구간에서 100개의 균일하게 퍼진 점을 포함하는 x벡터\n",
    "y = np.sin(x)                  # sin 함수를 적용한 결과 y벡터\n",
    "plt.plot(x, y, marker='.')     # x=x, y=sin(x) 에 대응하는 선 그래프 출력"
   ],
   "metadata": {
    "collapsed": false
   },
   "id": "39444e87ee726179"
  },
  {
   "cell_type": "markdown",
   "source": [
    "## pandas\n",
    "`DataFrame` 데이터 구조를 기반으로 SQL, CSV 등 다양한 형식의 파일과 데이터베이스를 처리하고 분석하는 데 `pandas` 라이브러리가 사용된다. NumPy의 ndarray와 달리 구성 원소가 서로 다른 타입이어도 무방하다."
   ],
   "metadata": {
    "collapsed": false
   },
   "id": "a449f008f070193c"
  }
 ],
 "metadata": {
  "kernelspec": {
   "display_name": "Python 3",
   "language": "python",
   "name": "python3"
  },
  "language_info": {
   "codemirror_mode": {
    "name": "ipython",
    "version": 2
   },
   "file_extension": ".py",
   "mimetype": "text/x-python",
   "name": "python",
   "nbconvert_exporter": "python",
   "pygments_lexer": "ipython2",
   "version": "2.7.6"
  }
 },
 "nbformat": 4,
 "nbformat_minor": 5
}
